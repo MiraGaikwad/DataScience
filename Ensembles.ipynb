{
 "cells": [
  {
   "cell_type": "code",
   "execution_count": 35,
   "metadata": {},
   "outputs": [],
   "source": [
    "import pandas as pd\n",
    "import numpy as np\n",
    "\n",
    "df = pd.read_csv(\"creditDefault.csv\")"
   ]
  },
  {
   "cell_type": "code",
   "execution_count": 36,
   "metadata": {},
   "outputs": [],
   "source": [
    "targetName = \"default payment next month\"\n",
    "df.columns.get_loc(targetName)\n",
    "\n",
    "featureNames = df.columns[np.where(df.columns != targetName)]\n",
    "\n",
    "X= df[featureNames].values\n",
    "y=df[targetName].values.ravel()"
   ]
  },
  {
   "cell_type": "code",
   "execution_count": 37,
   "metadata": {},
   "outputs": [],
   "source": [
    "from sklearn.model_selection import train_test_split\n",
    "\n",
    "X_train, X_test, y_train, y_test = train_test_split(X, y, test_size=0.2, random_state=42)"
   ]
  },
  {
   "cell_type": "code",
   "execution_count": 38,
   "metadata": {},
   "outputs": [
    {
     "data": {
      "text/plain": [
       "DecisionTreeClassifier()"
      ]
     },
     "execution_count": 38,
     "metadata": {},
     "output_type": "execute_result"
    }
   ],
   "source": [
    "from sklearn import tree\n",
    "\n",
    "tree_clf = tree.DecisionTreeClassifier()\n",
    "\n",
    "tree_clf.fit(X_train, y_train)"
   ]
  },
  {
   "cell_type": "code",
   "execution_count": 39,
   "metadata": {},
   "outputs": [
    {
     "data": {
      "text/plain": [
       "RandomForestClassifier(n_estimators=50, random_state=1)"
      ]
     },
     "execution_count": 39,
     "metadata": {},
     "output_type": "execute_result"
    }
   ],
   "source": [
    "from sklearn.ensemble import RandomForestClassifier\n",
    "\n",
    "random_forest_clf = RandomForestClassifier(n_estimators=50, random_state=1)\n",
    "\n",
    "random_forest_clf.fit(X_train, y_train)"
   ]
  },
  {
   "cell_type": "code",
   "execution_count": 40,
   "metadata": {},
   "outputs": [
    {
     "data": {
      "text/plain": [
       "AdaBoostClassifier(random_state=1)"
      ]
     },
     "execution_count": 40,
     "metadata": {},
     "output_type": "execute_result"
    }
   ],
   "source": [
    "from sklearn.ensemble import AdaBoostClassifier\n",
    "\n",
    "ada_boost_clf = AdaBoostClassifier(n_estimators=50, random_state=1)\n",
    "\n",
    "ada_boost_clf.fit(X_train, y_train)"
   ]
  },
  {
   "cell_type": "code",
   "execution_count": 41,
   "metadata": {},
   "outputs": [
    {
     "name": "stdout",
     "output_type": "stream",
     "text": [
      "[0.71833333 0.735      0.725625   0.73104167 0.72854167]\n",
      "[0.81083333 0.82354167 0.81791667 0.81791667 0.81291667]\n",
      "[0.815      0.82333333 0.814375   0.81375    0.81729167]\n",
      "Mean of Tree cv score: 0.7277083333333333\n",
      "Mean of Random Forest cv score: 0.8166249999999999\n",
      "Mean of Ada Boost cv score: 0.8167500000000001\n"
     ]
    }
   ],
   "source": [
    "from sklearn.model_selection import cross_val_score\n",
    "\n",
    "tree_cv_score = cross_val_score(tree_clf, X_train, y_train, cv=5)\n",
    "\n",
    "random_forest_score = cross_val_score(random_forest_clf, X_train, y_train, cv=5)\n",
    "\n",
    "ada_boost_score = cross_val_score(ada_boost_clf, X_train, y_train, cv=5)\n",
    "\n",
    "print(tree_cv_score)\n",
    "print(random_forest_score)\n",
    "print(ada_boost_score)\n",
    "\n",
    "print(\"Mean of Tree cv score: {}\".format(np.mean(tree_cv_score)))\n",
    "print(\"Mean of Random Forest cv score: {}\".format(np.mean(random_forest_score)))\n",
    "print(\"Mean of Ada Boost cv score: {}\".format(np.mean(ada_boost_score)))"
   ]
  },
  {
   "cell_type": "code",
   "execution_count": 45,
   "metadata": {},
   "outputs": [],
   "source": [
    "y_pred_tree = tree_clf.predict(X_test)\n",
    "y_pred_random = random_forest_clf.predict(X_test)\n",
    "y_pred_ada = ada_boost_clf.predict(X_test)"
   ]
  },
  {
   "cell_type": "code",
   "execution_count": 50,
   "metadata": {},
   "outputs": [
    {
     "name": "stdout",
     "output_type": "stream",
     "text": [
      "Tree Accuracy score: 0.725\n",
      "Random Forest Score: 0.8128333333333333\n",
      "Ada Boost Score: 0.816\n"
     ]
    }
   ],
   "source": [
    "from sklearn import metrics \n",
    "\n",
    "print(\"Tree Accuracy score: {}\".format(metrics.accuracy_score(y_test, y_pred_tree)))\n",
    "print(\"Random Forest Score: {}\".format(metrics.accuracy_score(y_test, y_pred_random)))\n",
    "print(\"Ada Boost Score: {}\".format(metrics.accuracy_score(y_test, y_pred_ada)))"
   ]
  },
  {
   "cell_type": "code",
   "execution_count": 53,
   "metadata": {},
   "outputs": [
    {
     "data": {
      "text/plain": [
       "[Text(167.4, 163.07999999999998, 'X[6] <= 1.5\\ngini = 0.345\\nsamples = 24000\\nvalue = [0.778, 0.222]'),\n",
       " Text(83.7, 54.360000000000014, 'gini = 0.277\\nsamples = 21477\\nvalue = [0.746, 0.148]'),\n",
       " Text(251.10000000000002, 54.360000000000014, 'gini = 0.422\\nsamples = 2523\\nvalue = [0.032, 0.073]')]"
      ]
     },
     "execution_count": 53,
     "metadata": {},
     "output_type": "execute_result"
    },
    {
     "data": {
      "image/png": "[encoded data removed]",
      "text/plain": [
       "<Figure size 432x288 with 1 Axes>"
      ]
     },
     "metadata": {
      "needs_background": "light"
     },
     "output_type": "display_data"
    }
   ],
   "source": [
    "tree.plot_tree(ada_boost_clf.estimators_[0])"
   ]
  },
  {
   "cell_type": "code",
   "execution_count": 54,
   "metadata": {},
   "outputs": [
    {
     "data": {
      "text/plain": [
       "array([0.  , 0.06, 0.02, 0.02, 0.04, 0.04, 0.14, 0.06, 0.02, 0.02, 0.02,\n",
       "       0.02, 0.12, 0.04, 0.1 , 0.04, 0.  , 0.02, 0.04, 0.06, 0.06, 0.02,\n",
       "       0.  , 0.04])"
      ]
     },
     "execution_count": 54,
     "metadata": {},
     "output_type": "execute_result"
    }
   ],
   "source": [
    "ada_boost_clf.feature_importances_"
   ]
  }
 ],
 "metadata": {
  "kernelspec": {
   "display_name": "Python 3",
   "language": "python",
   "name": "python3"
  },
  "language_info": {
   "codemirror_mode": {
    "name": "ipython",
    "version": 3
   },
   "file_extension": ".py",
   "mimetype": "text/x-python",
   "name": "python",
   "nbconvert_exporter": "python",
   "pygments_lexer": "ipython3",
   "version": "3.8.5"
  }
 },
 "nbformat": 4,
 "nbformat_minor": 4
}
