{
 "cells": [
  {
   "cell_type": "code",
   "execution_count": 1,
   "metadata": {},
   "outputs": [],
   "source": [
    "import pandas as pd\n",
    "import numpy as np\n",
    "\n",
    "df = pd.read_csv(\"creditDefault.csv\")"
   ]
  },
  {
   "cell_type": "code",
   "execution_count": 4,
   "metadata": {},
   "outputs": [],
   "source": [
    "targetName = \"default payment next month\"\n",
    "df.columns.get_loc(targetName)\n",
    "featureNames = df.columns[np.where(df.columns != targetName)]\n",
    "\n",
    "X = df[featureNames].values\n",
    "y = df[targetName].values"
   ]
  },
  {
   "cell_type": "code",
   "execution_count": 5,
   "metadata": {},
   "outputs": [],
   "source": [
    "from sklearn.model_selection import train_test_split\n",
    "\n",
    "X_train, X_test, y_train, y_test = train_test_split(X, y, test_size=0.2, random_state=42) "
   ]
  },
  {
   "cell_type": "code",
   "execution_count": 13,
   "metadata": {},
   "outputs": [
    {
     "data": {
      "text/plain": [
       "DecisionTreeClassifier()"
      ]
     },
     "execution_count": 13,
     "metadata": {},
     "output_type": "execute_result"
    }
   ],
   "source": [
    "from sklearn.neighbors import KNeighborsClassifier\n",
    "from sklearn import tree\n",
    "\n",
    "k=5\n",
    "knn_clf = KNeighborsClassifier(n_neighbors = k)\n",
    "knn_clf.fit(X_train, y_train)\n",
    "\n",
    "tree_clf = tree.DecisionTreeClassifier()\n",
    "tree_clf.fit(X_train, y_train)"
   ]
  },
  {
   "cell_type": "code",
   "execution_count": 20,
   "metadata": {},
   "outputs": [
    {
     "name": "stdout",
     "output_type": "stream",
     "text": [
      "[0.74520833 0.753125   0.75166667 0.74604167 0.74604167]\n",
      "[0.72166667 0.73125    0.72583333 0.73958333 0.73125   ]\n",
      "Knn cv score mean: 0.7484166666666667\n",
      "Tree cv score mean: 0.7299166666666667\n"
     ]
    }
   ],
   "source": [
    "from sklearn.model_selection import cross_val_score\n",
    "\n",
    "knn_cv_score = cross_val_score(knn_clf, X_train, y_train, cv=5)\n",
    "tree_cv_score = cross_val_score(tree_clf, X_train, y_train, cv=5)\n",
    "\n",
    "print(knn_cv_score)\n",
    "print(tree_cv_score)\n",
    "\n",
    "print(\"Knn cv score mean: {}\".format(np.mean(knn_cv_score)))\n",
    "print(\"Tree cv score mean: {}\".format(np.mean(tree_cv_score)))"
   ]
  },
  {
   "cell_type": "code",
   "execution_count": 31,
   "metadata": {},
   "outputs": [
    {
     "name": "stdout",
     "output_type": "stream",
     "text": [
      "{'fit_time': array([0.15960836, 0.1505971 , 0.14760494, 0.14860177, 0.14756727]), 'score_time': array([0.91950488, 0.94148326, 0.94148493, 1.01033401, 0.90964556]), 'test_accuracy': array([0.74520833, 0.753125  , 0.75166667, 0.74604167, 0.74604167]), 'test_roc_auc': array([0.59616151, 0.60175608, 0.59909434, 0.59741677, 0.59928779]), 'test_precision': array([0.35675676, 0.38649156, 0.37119675, 0.35019455, 0.35634328]), 'test_f1': array([0.24459543, 0.25798372, 0.23491656, 0.2279924 , 0.23860087]), 'test_recall': array([0.18609023, 0.19360902, 0.17183099, 0.16901408, 0.17934272])}\n",
      "{'fit_time': array([0.41090274, 0.41687608, 0.4098649 , 0.40891123, 0.41788268]), 'score_time': array([0.00897765, 0.00997615, 0.00900888, 0.00997448, 0.00997353]), 'test_accuracy': array([0.725625  , 0.72854167, 0.723125  , 0.731875  , 0.72625   ]), 'test_roc_auc': array([0.61469285, 0.60816421, 0.61467843, 0.62365707, 0.61769331]), 'test_precision': array([0.3887423 , 0.38863001, 0.38601036, 0.40228873, 0.39164491]), 'test_f1': array([0.40163562, 0.39026673, 0.40215924, 0.41526579, 0.40650407]), 'test_recall': array([0.41541353, 0.39191729, 0.41971831, 0.42910798, 0.42253521])}\n"
     ]
    }
   ],
   "source": [
    "from sklearn.model_selection import cross_validate\n",
    "\n",
    "metrics_to_calculate= ['accuracy', 'roc_auc', 'precision', 'f1', 'recall']\n",
    "\n",
    "knn_cv_scores = cross_validate(knn_clf, X_train, y_train, cv=5, scoring=metrics_to_calculate)\n",
    "tree_cv_scores = cross_validate(tree_clf, X_train, y_train, cv=5, scoring=metrics_to_calculate)\n",
    "\n",
    "print(knn_cv_scores)\n",
    "print(tree_cv_scores)"
   ]
  },
  {
   "cell_type": "code",
   "execution_count": 32,
   "metadata": {},
   "outputs": [
    {
     "name": "stdout",
     "output_type": "stream",
     "text": [
      "0.7484166666666667\n"
     ]
    }
   ],
   "source": [
    "knn_accuracy_scores=np.mean(knn_cv_scores['test_accuracy'])\n",
    "\n",
    "print(knn_accuracy_scores)"
   ]
  },
  {
   "cell_type": "code",
   "execution_count": 33,
   "metadata": {},
   "outputs": [
    {
     "name": "stdout",
     "output_type": "stream",
     "text": [
      "0.7270833333333333\n"
     ]
    }
   ],
   "source": [
    "tree_accuracy_scores=np.mean(tree_cv_scores['test_accuracy'])\n",
    "\n",
    "print(tree_accuracy_scores)"
   ]
  },
  {
   "cell_type": "code",
   "execution_count": 34,
   "metadata": {},
   "outputs": [
    {
     "data": {
      "text/plain": [
       "['accuracy',\n",
       " 'adjusted_mutual_info_score',\n",
       " 'adjusted_rand_score',\n",
       " 'average_precision',\n",
       " 'balanced_accuracy',\n",
       " 'completeness_score',\n",
       " 'explained_variance',\n",
       " 'f1',\n",
       " 'f1_macro',\n",
       " 'f1_micro',\n",
       " 'f1_samples',\n",
       " 'f1_weighted',\n",
       " 'fowlkes_mallows_score',\n",
       " 'homogeneity_score',\n",
       " 'jaccard',\n",
       " 'jaccard_macro',\n",
       " 'jaccard_micro',\n",
       " 'jaccard_samples',\n",
       " 'jaccard_weighted',\n",
       " 'max_error',\n",
       " 'mutual_info_score',\n",
       " 'neg_brier_score',\n",
       " 'neg_log_loss',\n",
       " 'neg_mean_absolute_error',\n",
       " 'neg_mean_gamma_deviance',\n",
       " 'neg_mean_poisson_deviance',\n",
       " 'neg_mean_squared_error',\n",
       " 'neg_mean_squared_log_error',\n",
       " 'neg_median_absolute_error',\n",
       " 'neg_root_mean_squared_error',\n",
       " 'normalized_mutual_info_score',\n",
       " 'precision',\n",
       " 'precision_macro',\n",
       " 'precision_micro',\n",
       " 'precision_samples',\n",
       " 'precision_weighted',\n",
       " 'r2',\n",
       " 'recall',\n",
       " 'recall_macro',\n",
       " 'recall_micro',\n",
       " 'recall_samples',\n",
       " 'recall_weighted',\n",
       " 'roc_auc',\n",
       " 'roc_auc_ovo',\n",
       " 'roc_auc_ovo_weighted',\n",
       " 'roc_auc_ovr',\n",
       " 'roc_auc_ovr_weighted',\n",
       " 'v_measure_score']"
      ]
     },
     "execution_count": 34,
     "metadata": {},
     "output_type": "execute_result"
    }
   ],
   "source": [
    "from sklearn.metrics import SCORERS\n",
    "\n",
    "sorted(SCORERS.keys())"
   ]
  },
  {
   "cell_type": "code",
   "execution_count": 38,
   "metadata": {},
   "outputs": [
    {
     "data": {
      "text/plain": [
       "array([[4270,  417],\n",
       "       [1078,  235]], dtype=int64)"
      ]
     },
     "execution_count": 38,
     "metadata": {},
     "output_type": "execute_result"
    }
   ],
   "source": [
    "from sklearn.metrics import confusion_matrix\n",
    "\n",
    "knn_pred=knn_clf.predict(X_test)\n",
    "\n",
    "confusion_matrix(y_test, knn_pred)"
   ]
  },
  {
   "cell_type": "code",
   "execution_count": 40,
   "metadata": {},
   "outputs": [
    {
     "data": {
      "text/plain": [
       "array([[3794,  893],\n",
       "       [ 769,  544]], dtype=int64)"
      ]
     },
     "execution_count": 40,
     "metadata": {},
     "output_type": "execute_result"
    }
   ],
   "source": [
    "tree_pred = tree_clf.predict(X_test)\n",
    "\n",
    "confusion_matrix(y_test, tree_pred)"
   ]
  }
 ],
 "metadata": {
  "kernelspec": {
   "display_name": "Python 3",
   "language": "python",
   "name": "python3"
  },
  "language_info": {
   "codemirror_mode": {
    "name": "ipython",
    "version": 3
   },
   "file_extension": ".py",
   "mimetype": "text/x-python",
   "name": "python",
   "nbconvert_exporter": "python",
   "pygments_lexer": "ipython3",
   "version": "3.8.5"
  }
 },
 "nbformat": 4,
 "nbformat_minor": 4
}
