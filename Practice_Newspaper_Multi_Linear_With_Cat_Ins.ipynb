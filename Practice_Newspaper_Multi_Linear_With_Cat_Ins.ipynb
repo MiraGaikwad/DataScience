{
 "cells": [
  {
   "cell_type": "code",
   "execution_count": 28,
   "metadata": {},
   "outputs": [],
   "source": [
    "from sklearn.model_selection import train_test_split\n",
    "from sklearn.linear_model import LinearRegression\n",
    "from sklearn import metrics\n",
    "import numpy as np"
   ]
  },
  {
   "cell_type": "code",
   "execution_count": 29,
   "metadata": {},
   "outputs": [
    {
     "name": "stdout",
     "output_type": "stream",
     "text": [
      "[('Advert_Spend', '<i4'), ('Price', '<i4'), ('FP_Story', '<U8'), ('Prize_Value', '<i4'), ('Wet', '<i4'), ('Sales', '<i4')]\n"
     ]
    }
   ],
   "source": [
    "data = np.genfromtxt(\"Newspaper_Num_Cat.csv\", delimiter=',', names=True, \n",
    "                    dtype=None, encoding='utf-8-sig')\n",
    "\n",
    "print(data.dtype)"
   ]
  },
  {
   "cell_type": "code",
   "execution_count": 39,
   "metadata": {},
   "outputs": [
    {
     "name": "stdout",
     "output_type": "stream",
     "text": [
      "[ 1757    60     0     1     0     0     0    30     1 50611]\n"
     ]
    }
   ],
   "source": [
    "from sklearn.preprocessing import OneHotEncoder\n",
    "from numpy.lib import recfunctions\n",
    "import numpy as np\n",
    "\n",
    "enc = OneHotEncoder()\n",
    "fp = data['FP_Story'].reshape(-1,1)\n",
    "enc.fit(fp)\n",
    "codedfp = enc.transform(fp).toarray()\n",
    "\n",
    "ndata = data[['Advert_Spend','Price', 'Prize_Value', 'Wet', 'Sales']]\n",
    "ndata = recfunctions.structured_to_unstructured(ndata)\n",
    "ndata = np.insert(ndata, [2], codedfp, axis=1)\n",
    "print(ndata[0])"
   ]
  },
  {
   "cell_type": "code",
   "execution_count": 55,
   "metadata": {},
   "outputs": [
    {
     "name": "stdout",
     "output_type": "stream",
     "text": [
      "[ 1757    60     0     1     0     0     0    30     1 50611]\n"
     ]
    }
   ],
   "source": [
    "cols = ndata.shape[1]\n",
    "X = ndata[:,0:cols-1]\n",
    "y = ndata[:,cols-1]\n",
    "\n",
    "print(ndata[0])"
   ]
  },
  {
   "cell_type": "code",
   "execution_count": 56,
   "metadata": {},
   "outputs": [],
   "source": [
    "X_train, X_test, y_train, y_test = train_test_split(X, y, test_size=0.2, random_state=23)"
   ]
  },
  {
   "cell_type": "code",
   "execution_count": 65,
   "metadata": {},
   "outputs": [
    {
     "data": {
      "text/plain": [
       "0.9888860206241448"
      ]
     },
     "execution_count": 65,
     "metadata": {},
     "output_type": "execute_result"
    }
   ],
   "source": [
    "LReg_clf = LinearRegression().fit(X_train, y_train)\n",
    "LReg_clf.score(X_train, y_train)"
   ]
  },
  {
   "cell_type": "code",
   "execution_count": 69,
   "metadata": {},
   "outputs": [
    {
     "name": "stdout",
     "output_type": "stream",
     "text": [
      "Mean Absolute Error on Test:  777.0490156976628\n"
     ]
    }
   ],
   "source": [
    "y_preds = LReg_clf.predict(X_test)\n",
    "test_MAE = metrics.mean_absolute_error(y_preds, y_test)\n",
    "print(\"Mean Absolute Error on Test: \", test_MAE)"
   ]
  },
  {
   "cell_type": "code",
   "execution_count": 70,
   "metadata": {},
   "outputs": [],
   "source": [
    "from sklearn.model_selection import cross_val_score\n",
    "from sklearn.linear_model import Ridge\n",
    "from sklearn.linear_model import Lasso"
   ]
  },
  {
   "cell_type": "code",
   "execution_count": 73,
   "metadata": {},
   "outputs": [
    {
     "data": {
      "text/plain": [
       "Ridge()"
      ]
     },
     "execution_count": 73,
     "metadata": {},
     "output_type": "execute_result"
    }
   ],
   "source": [
    "ridge_reg = Ridge(alpha = 1.0)\n",
    "ridge_reg.fit(X_train, y_train)"
   ]
  },
  {
   "cell_type": "code",
   "execution_count": 77,
   "metadata": {},
   "outputs": [
    {
     "name": "stdout",
     "output_type": "stream",
     "text": [
      "[0.99037832 0.98895439 0.98748693 0.98797324 0.98335282]\n",
      "0.987629141037209\n"
     ]
    }
   ],
   "source": [
    "Ridge_cv_score = cross_val_score(ridge_reg, X_train, y_train, cv=5)\n",
    "\n",
    "print(Ridge_cv_score)\n",
    "print(Ridge_cv_score.mean())"
   ]
  },
  {
   "cell_type": "code",
   "execution_count": 78,
   "metadata": {},
   "outputs": [
    {
     "data": {
      "text/plain": [
       "Lasso()"
      ]
     },
     "execution_count": 78,
     "metadata": {},
     "output_type": "execute_result"
    }
   ],
   "source": [
    "lasso_reg = Lasso(alpha=1.0)\n",
    "lasso_reg.fit(X_train, y_train)"
   ]
  },
  {
   "cell_type": "code",
   "execution_count": 82,
   "metadata": {},
   "outputs": [
    {
     "name": "stdout",
     "output_type": "stream",
     "text": [
      "[0.99051792 0.98889431 0.9875584  0.98815003 0.98343084]\n",
      "0.9877103023547361\n"
     ]
    }
   ],
   "source": [
    "Lasso_cv_score = cross_val_score(lasso_reg, X_train, y_train, cv=5)\n",
    "\n",
    "print(Lasso_cv_score)\n",
    "print(Lasso_cv_score.mean())"
   ]
  },
  {
   "cell_type": "code",
   "execution_count": 85,
   "metadata": {},
   "outputs": [
    {
     "data": {
      "text/plain": [
       "array([0.99051792, 0.98889431, 0.9875584 , 0.98815003, 0.98343084])"
      ]
     },
     "execution_count": 85,
     "metadata": {},
     "output_type": "execute_result"
    }
   ],
   "source": [
    "cross_val_score(lasso_reg, X_train, y_train, cv=5)"
   ]
  },
  {
   "cell_type": "code",
   "execution_count": 89,
   "metadata": {},
   "outputs": [
    {
     "name": "stdout",
     "output_type": "stream",
     "text": [
      "Alpha= 1 CV Scores: [0.99051792 0.98889431 0.9875584  0.98815003 0.98343084]\n",
      "Alpha= 10 CV Scores: [0.99055179 0.98895722 0.9874845  0.98797481 0.98346183]\n",
      "Alpha= 100 CV Scores: [0.98788002 0.98632641 0.9844434  0.98375961 0.97935309]\n",
      "Alpha= 1000 CV Scores: [0.82842891 0.78879969 0.854549   0.82397041 0.72053177]\n"
     ]
    }
   ],
   "source": [
    "for alpha in [1, 10, 100, 1000]:\n",
    "    lasso_reg = Lasso(alpha=alpha)\n",
    "    lasso_reg.fit(X_train, y_train)\n",
    "    print(\"Alpha=\", alpha , \"CV Scores:\", cross_val_score(lasso_reg, X_train, y_train, cv=5))"
   ]
  },
  {
   "cell_type": "code",
   "execution_count": 97,
   "metadata": {},
   "outputs": [
    {
     "name": "stdout",
     "output_type": "stream",
     "text": [
      "[54333.08413473 73455.01957736 59091.13905077 56652.77561294\n",
      " 72522.62582093 53651.81162064 54263.73726887 72627.16975012\n",
      " 62346.80538033 58467.68428851 58135.1424273  67236.33924501\n",
      " 51310.49347688 66569.40021515 56119.20248341 58092.58273265\n",
      " 57445.26105111 63667.2087759  50981.56582634 61332.00882651\n",
      " 61288.37054912 62786.61245268 62223.2351735  32640.72238936\n",
      " 61656.6419459  58546.93589747 56590.5409644  65106.30393089\n",
      " 63374.10706515 73062.00197083 49423.77891194 53890.49102045\n",
      " 63585.11968099 61231.75942847 51825.7522935  61096.08235288\n",
      " 49928.10584677 67729.14322735 47893.32527925 59035.94001512\n",
      " 63396.06723297 56850.75062554 66369.76270355 44489.83719958\n",
      " 67429.15991348 51623.46294996 50564.39924229 51583.58673148\n",
      " 70092.75504118 58456.25774025 60582.30038125 51866.15482269\n",
      " 53976.82320248 48696.52530097 70878.57148448 70071.17333583\n",
      " 63597.13014553 65293.99573794 72191.16254245 51674.84880497\n",
      " 63821.57862686 67370.84133364 60082.64644004 46918.25093413\n",
      " 60492.70080676 58356.40660446 54556.25506335 45832.48282121\n",
      " 58406.34873022 72431.66560547 52408.25225454 60552.62428005\n",
      " 53860.81491925 57767.17288855 66452.96202543]\n"
     ]
    }
   ],
   "source": [
    "y_pred_lasso=lasso_reg.predict(X_test)\n",
    "\n",
    "print(y_pred_lasso)"
   ]
  }
 ],
 "metadata": {
  "kernelspec": {
   "display_name": "Python 3",
   "language": "python",
   "name": "python3"
  },
  "language_info": {
   "codemirror_mode": {
    "name": "ipython",
    "version": 3
   },
   "file_extension": ".py",
   "mimetype": "text/x-python",
   "name": "python",
   "nbconvert_exporter": "python",
   "pygments_lexer": "ipython3",
   "version": "3.8.5"
  }
 },
 "nbformat": 4,
 "nbformat_minor": 4
}
